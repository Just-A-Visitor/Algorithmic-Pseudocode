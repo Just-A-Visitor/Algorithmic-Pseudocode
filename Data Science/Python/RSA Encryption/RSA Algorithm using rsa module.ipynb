{
 "cells": [
  {
   "cell_type": "markdown",
   "metadata": {},
   "source": [
    "# Welcome to Jupyter!"
   ]
  },
  {
   "cell_type": "code",
   "execution_count": null,
   "metadata": {},
   "outputs": [],
   "source": [
    "import rsa"
   ]
  },
  {
   "cell_type": "markdown",
   "metadata": {},
   "source": [
    "# rsa.newkeys() produces the tuple (public_keys, private_keys) in the same order\n",
    "\n",
    "The input argument is the number of bits in n (The product of two primes). This is the upper limit, not the exact length \n",
    "\n",
    "\n",
    "Documentation ----- https://kite.com/python/docs/rsa.key.newkeys"
   ]
  },
  {
   "cell_type": "code",
   "execution_count": null,
   "metadata": {},
   "outputs": [],
   "source": [
    "(public_keys, private_keys) = rsa.newkeys(512)\n",
    "\n",
    "print(public_keys)\n",
    "print()\n",
    "print(private_keys)"
   ]
  },
  {
   "cell_type": "markdown",
   "metadata": {},
   "source": [
    "# Encryption and decryption can only be done on bytes format.\n",
    "\n",
    "string  ==> encode  ===> bytes\n",
    "\n",
    "\n",
    "To read and write bytes, use rb and wb"
   ]
  },
  {
   "cell_type": "markdown",
   "metadata": {},
   "source": [
    "## As you can see, the encrypted message is in bytes format\n",
    "# Python prints bytes as b'string representation'\n",
    "\n",
    "Remember to encode the string before encryption as encryption and decryption only works on bytes format\n",
    "\n",
    "\n",
    "# Encryption  ===> Use publick_keys()\n",
    "# Decryption  ===> Use private_keys()"
   ]
  },
  {
   "cell_type": "code",
   "execution_count": null,
   "metadata": {},
   "outputs": [],
   "source": [
    "message = 'This is a message'\n",
    "\n",
    "cipher = rsa.encrypt(message.encode(), public_keys)\n",
    "print(type(cipher))\n",
    "print(cipher)"
   ]
  },
  {
   "cell_type": "markdown",
   "metadata": {},
   "source": [
    "# Use private_keys and hash function 'SHA-1' for signing.\n",
    "\n",
    "The signature is also in bytes format"
   ]
  },
  {
   "cell_type": "code",
   "execution_count": null,
   "metadata": {},
   "outputs": [],
   "source": [
    "signature = rsa.sign(message.encode(), private_keys, 'SHA-1')\n",
    "print(type(signature))\n",
    "print(signature)"
   ]
  },
  {
   "cell_type": "markdown",
   "metadata": {},
   "source": [
    "# Reading and writing encrypted message"
   ]
  },
  {
   "cell_type": "code",
   "execution_count": null,
   "metadata": {},
   "outputs": [],
   "source": [
    "file = open('encrypted_message.txt','wb')\n",
    "file.write(cipher)\n",
    "file.close()\n",
    "\n",
    "print(cipher)"
   ]
  },
  {
   "cell_type": "code",
   "execution_count": null,
   "metadata": {},
   "outputs": [],
   "source": [
    "file = open('encrypted_message.txt','rb')\n",
    "displayed_encrypted_message = file.read()\n",
    "file.close()\n",
    "\n",
    "print(displayed_encrypted_message)"
   ]
  },
  {
   "cell_type": "markdown",
   "metadata": {},
   "source": [
    "# Reading and writing signature"
   ]
  },
  {
   "cell_type": "code",
   "execution_count": null,
   "metadata": {},
   "outputs": [],
   "source": [
    "file = open('encrypted_signature.txt','wb')\n",
    "file.write(signature)\n",
    "file.close()\n",
    "\n",
    "print(signature)"
   ]
  },
  {
   "cell_type": "code",
   "execution_count": null,
   "metadata": {},
   "outputs": [],
   "source": [
    "file = open('encrypted_signature.txt','rb')\n",
    "displayed_signature = file.read()\n",
    "file.close()\n",
    "\n",
    "print(displayed_signature)"
   ]
  },
  {
   "cell_type": "code",
   "execution_count": null,
   "metadata": {},
   "outputs": [],
   "source": [
    "new_message = input('Enter your message here ')"
   ]
  },
  {
   "cell_type": "code",
   "execution_count": null,
   "metadata": {},
   "outputs": [],
   "source": [
    "assert rsa.verify(new_message.encode(), signature, public_keys)"
   ]
  },
  {
   "cell_type": "markdown",
   "metadata": {},
   "source": [
    "# Remember to read and write bytes.\n",
    "\n",
    "If you want to read and write strings, use the proper format b\"..\"\" and use ast.literal_eval to evaluate to bytes"
   ]
  },
  {
   "cell_type": "markdown",
   "metadata": {},
   "source": [
    "# Decryption"
   ]
  },
  {
   "cell_type": "code",
   "execution_count": null,
   "metadata": {},
   "outputs": [],
   "source": [
    "print(rsa.decrypt(displayed_encrypted_message, private_keys))"
   ]
  },
  {
   "cell_type": "markdown",
   "metadata": {},
   "source": [
    "# Remember to use ast.literal_eval. It evaluates the string to bytes"
   ]
  },
  {
   "cell_type": "code",
   "execution_count": null,
   "metadata": {},
   "outputs": [],
   "source": [
    "import ast\n",
    "\n",
    "print(cipher)\n",
    "\n",
    "new_encrypted_message = input('Enter the same cipher ')\n",
    "\n",
    "print(rsa.decrypt(ast.literal_eval(new_encrypted_message), private_keys))"
   ]
  },
  {
   "cell_type": "code",
   "execution_count": null,
   "metadata": {},
   "outputs": [],
   "source": []
  },
  {
   "cell_type": "code",
   "execution_count": null,
   "metadata": {},
   "outputs": [],
   "source": []
  },
  {
   "cell_type": "code",
   "execution_count": null,
   "metadata": {},
   "outputs": [],
   "source": []
  }
 ],
 "metadata": {
  "kernelspec": {
   "display_name": "Python 3",
   "language": "python",
   "name": "python3"
  },
  "language_info": {
   "codemirror_mode": {
    "name": "ipython",
    "version": 3
   },
   "file_extension": ".py",
   "mimetype": "text/x-python",
   "name": "python",
   "nbconvert_exporter": "python",
   "pygments_lexer": "ipython3",
   "version": "3.6.7"
  }
 },
 "nbformat": 4,
 "nbformat_minor": 2
}
